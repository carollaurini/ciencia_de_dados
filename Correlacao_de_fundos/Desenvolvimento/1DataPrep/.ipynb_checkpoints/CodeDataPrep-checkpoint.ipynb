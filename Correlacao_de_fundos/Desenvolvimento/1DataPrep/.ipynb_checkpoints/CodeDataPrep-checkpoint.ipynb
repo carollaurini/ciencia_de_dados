{
 "cells": [
  {
   "cell_type": "code",
   "execution_count": null,
   "metadata": {},
   "outputs": [],
   "source": [
    "import pandas as pd\n",
    "import sklearn \n",
    "from sklearn.linear_model import LinearRegression\n",
    "import matplotlib.pyplot as plt\n",
    "import numpy as np\n",
    "from sklearn import feature_selection\n",
    "import seaborn as sns\n",
    "import openpyxl"
   ]
  },
  {
   "cell_type": "code",
   "execution_count": null,
   "metadata": {},
   "outputs": [],
   "source": [
    "janela = 'diario'\n",
    "book_name='iboxhy'\n",
    "df = pd.read_csv(\"P:\\\\ciencia_de_dados\\\\Correlacao_de_fundos\\\\Bases\\\\\"  + book_name + \".csv\",delimiter=',',decimal='.',parse_dates=True)\n",
    "df = df.dropna().drop_duplicates().rename(columns={'Unnamed: 0':'data'})\n",
    "df.head()"
   ]
  },
  {
   "cell_type": "code",
   "execution_count": null,
   "metadata": {},
   "outputs": [],
   "source": [
    "df = df.melt(id_vars='data', value_vars=list(df.columns[1:]), value_name=\"FinancialPrice\",var_name='Product')"
   ]
  },
  {
   "cell_type": "code",
   "execution_count": null,
   "metadata": {},
   "outputs": [],
   "source": [
    "#Calculo das colunas temporais\n",
    "df['data']=pd.to_datetime(df['data'],format = '%Y-%m-%d')\n",
    "df['MesAno'] = df['data'].dt.strftime('%m-%Y')\n",
    "df['Mes_nomial']=df['data'].dt.strftime('%b')\n",
    "df['Mes']=df['data'].dt.strftime('%m').astype(int)\n",
    "df['Ano']=df['data'].dt.strftime('%Y').astype(int)"
   ]
  },
  {
   "cell_type": "code",
   "execution_count": null,
   "metadata": {},
   "outputs": [],
   "source": [
    "if janela == 'diario':\n",
    "    df = df.groupby('MesAno').agg(['max'])\n",
    "    df.columns = df.columns.droplevel(1)\n",
    "    df = df.reset_index()"
   ]
  },
  {
   "cell_type": "code",
   "execution_count": null,
   "metadata": {},
   "outputs": [],
   "source": [
    "df.sort_values(by=[\"Product\",'data'],ascending=False,inplace=True)"
   ]
  },
  {
   "cell_type": "code",
   "execution_count": null,
   "metadata": {},
   "outputs": [],
   "source": [
    "#Cria a coluna retorno e seta NaN na primeira linha de cada fundo\n",
    "df['FinancialPrice']=pd.to_numeric(df[\"FinancialPrice\"], downcast=\"float\")\n",
    "df[\"Retorno_1\"] = (df.FinancialPrice.shift())/(df.FinancialPrice)\n",
    "df.loc[df.drop_duplicates('Product').index.values,'Retorno_1'] = np.NaN\n",
    "df['Retorno'] = df.Retorno_1.shift(periods=-1)\n",
    "df['Retorno'] = (df[\"Retorno_1\"]-1)*100"
   ]
  },
  {
   "cell_type": "code",
   "execution_count": null,
   "metadata": {},
   "outputs": [],
   "source": [
    "df.to_csv('P:\\\\ciencia_de_dados\\\\Correlacao_de_fundos\\\\Desenvolvimento\\\\1DataPrep\\\\base_'+ book_name + '.csv',sep =';',decimal=',')"
   ]
  }
 ],
 "metadata": {
  "interpreter": {
   "hash": "a00aeec2289cc99a0231b58f96b56a331b4325a429a696208fafbc585e08b4fc"
  },
  "kernelspec": {
   "display_name": "Python 3",
   "language": "python",
   "name": "python3"
  },
  "language_info": {
   "codemirror_mode": {
    "name": "ipython",
    "version": 3
   },
   "file_extension": ".py",
   "mimetype": "text/x-python",
   "name": "python",
   "nbconvert_exporter": "python",
   "pygments_lexer": "ipython3",
   "version": "3.6.8"
  }
 },
 "nbformat": 4,
 "nbformat_minor": 2
}

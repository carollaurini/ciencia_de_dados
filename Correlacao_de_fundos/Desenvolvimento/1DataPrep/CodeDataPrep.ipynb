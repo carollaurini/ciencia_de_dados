{
 "cells": [
  {
   "cell_type": "code",
   "execution_count": null,
   "source": [
    "import pandas as pd\r\n",
    "import sklearn \r\n",
    "from sklearn.linear_model import LinearRegression\r\n",
    "import matplotlib.pyplot as plt\r\n",
    "import numpy as np\r\n",
    "from sklearn import feature_selection\r\n",
    "import seaborn as sns"
   ],
   "outputs": [],
   "metadata": {}
  },
  {
   "cell_type": "code",
   "execution_count": null,
   "source": [
    "df = pd.read_csv(\"P:\\ciencia_de_dados\\Correlacao_de_fundos\\Bases\\Book8_paiva.csv\",delimiter=';',decimal=',',parse_dates=True)"
   ],
   "outputs": [],
   "metadata": {}
  },
  {
   "cell_type": "code",
   "execution_count": null,
   "source": [
    "#Fundo a ser analisado\r\n",
    "nome_do_fundo = 'paiva'\r\n",
    "coldata = \"data\"\r\n",
    "nome_benchmark = \"ibov\""
   ],
   "outputs": [],
   "metadata": {}
  },
  {
   "cell_type": "code",
   "execution_count": null,
   "source": [
    "#Calculo das colunas temporais\r\n",
    "df[coldata]=pd.to_datetime(df[coldata],format = '%d/%m/%Y')\r\n",
    "df['MesAno'] = df[coldata].dt.strftime('%m-%Y')\r\n",
    "df['Mes']=df[coldata].dt.strftime('%m')\r\n",
    "df['Ano']=df[coldata].dt.strftime('%Y')\r\n",
    "df.sort_values(by=[\"Product\",coldata],ascending=False,inplace=True)\r\n"
   ],
   "outputs": [],
   "metadata": {}
  },
  {
   "cell_type": "code",
   "execution_count": 206,
   "source": [
    "#Cria a coluna retorno e seta NaN na primeira linha de cada fundo\r\n",
    "df[\"Retorno_1\"] = (df.FinancialPrice.shift())/(df.FinancialPrice)\r\n",
    "df.loc[df.drop_duplicates('Product').index.values,'Retorno_1'] = np.NaN\r\n",
    "df['Retorno'] = df.Retorno_1.shift(periods=-1)\r\n",
    "df['Retorno'] = (df[\"Retorno_1\"]-1)*100\r\n",
    "\r\n",
    "df.to_csv('P:\\\\ciencia_de_dados\\\\Correlacao_de_fundos\\\\Desenvolvimento\\\\1DataPrep\\\\base_'+ nome_do_fundo + '.csv',sep =';',decimal=',')"
   ],
   "outputs": [],
   "metadata": {}
  }
 ],
 "metadata": {
  "orig_nbformat": 4,
  "language_info": {
   "name": "python",
   "version": "3.6.8",
   "mimetype": "text/x-python",
   "codemirror_mode": {
    "name": "ipython",
    "version": 3
   },
   "pygments_lexer": "ipython3",
   "nbconvert_exporter": "python",
   "file_extension": ".py"
  },
  "kernelspec": {
   "name": "python3",
   "display_name": "Python 3.6.8 64-bit"
  },
  "interpreter": {
   "hash": "a00aeec2289cc99a0231b58f96b56a331b4325a429a696208fafbc585e08b4fc"
  }
 },
 "nbformat": 4,
 "nbformat_minor": 2
}
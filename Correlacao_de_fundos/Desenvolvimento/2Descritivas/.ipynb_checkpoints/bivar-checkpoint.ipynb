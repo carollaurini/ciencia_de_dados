{
 "cells": [
  {
   "cell_type": "code",
   "execution_count": 1,
   "metadata": {},
   "outputs": [],
   "source": [
    "import pandas as pd\n",
    "import sklearn \n",
    "from sklearn.linear_model import LinearRegression\n",
    "import matplotlib.pyplot as plt\n",
    "import numpy as np\n",
    "from sklearn import feature_selection\n",
    "import seaborn as sns"
   ]
  },
  {
   "cell_type": "code",
   "execution_count": 2,
   "metadata": {},
   "outputs": [],
   "source": [
    "#Fundo a ser analisado\n",
    "nome_da_base = 'pagaya'\n",
    "col_fundos = ['Pagaya Opportunity Fund','Riverview ALF']\n",
    "nome_benchmark = \"IBOXHY Index\""
   ]
  },
  {
   "cell_type": "code",
   "execution_count": 3,
   "metadata": {},
   "outputs": [],
   "source": [
    "df=pd.read_csv('P:\\\\ciencia_de_dados\\\\Correlacao_de_fundos\\\\Desenvolvimento\\\\1DataPrep\\\\base_'+ nome_da_base + '.csv',sep =';',decimal=',',index_col=0)"
   ]
  },
  {
   "cell_type": "code",
   "execution_count": 18,
   "metadata": {},
   "outputs": [],
   "source": [
    "df_mensal = pd.read_csv('P:\\\\ciencia_de_dados\\\\Correlacao_de_fundos\\\\Desenvolvimento\\\\1DataPrep\\\\base_'+ nome_benchmark + '.csv',sep =';',index_col=0,decimal=',')"
   ]
  },
  {
   "cell_type": "code",
   "execution_count": 19,
   "metadata": {},
   "outputs": [],
   "source": [
    "df = pd.concat([df_mensal, df])"
   ]
  },
  {
   "cell_type": "code",
   "execution_count": null,
   "metadata": {},
   "outputs": [],
   "source": [
    "def show_graph_reg(x,y):\n",
    "    # plot it as in the example at http://scikit-learn.org/\n",
    "    plt.scatter(x, y,  color='black')\n",
    "    plt.plot(x, regr.predict(x), color='blue', linewidth=3)\n",
    "    plt.xticks(())\n",
    "    plt.yticks(())\n",
    "    plt.show()\n",
    "                  "
   ]
  },
  {
   "cell_type": "code",
   "execution_count": 26,
   "metadata": {},
   "outputs": [
    {
     "data": {
      "image/png": "[encoded data removed]",
      "text/plain": [
       "<Figure size 432x288 with 1 Axes>"
      ]
     },
     "metadata": {},
     "output_type": "display_data"
    }
   ],
   "source": [
    "def regressao_linear(df,nome_do_fundo,nome_benchmark):   \n",
    "    df_fundo = df.loc[df.Product == nome_do_fundo,['data','Retorno']]\n",
    "    df_bench = df.loc[df.Product == nome_benchmark,['data','Retorno']]\n",
    "\n",
    "    df_fundo.index = df_fundo['data']\n",
    "    df_bench.index = df_bench['data']\n",
    "    df_join =pd.merge(df_bench, df_fundo,how='inner',left_index=True, right_index=True).dropna()[['Retorno_x','Retorno_y']]\n",
    "\n",
    "    #Regressao Linear total\n",
    "    x = (df_join['Retorno_x']).values.reshape((-1, 1))\n",
    "    y= (df_join['Retorno_y']).values.reshape((-1, 1))\n",
    "\n",
    "    regr = sklearn.linear_model.LinearRegression()\n",
    "    regr.fit(x, y)\n",
    "    \n",
    "\n"
   ]
  },
  {
   "cell_type": "code",
   "execution_count": null,
   "metadata": {},
   "outputs": [],
   "source": [
    "regressao_linear(df,col_fundos[0],nome_benchmark)"
   ]
  },
  {
   "cell_type": "markdown",
   "metadata": {},
   "source": [
    "Regressao Linear "
   ]
  },
  {
   "cell_type": "code",
   "execution_count": 13,
   "metadata": {},
   "outputs": [
    {
     "name": "stdout",
     "output_type": "stream",
     "text": [
      "Beta: \n",
      " [[0.76137259]]\n",
      "Alpha: \n",
      " [0.02229696]\n",
      "R^2: \n",
      " 0.8355529765395104\n",
      "Mean squared error: 0.15091670\n",
      "Coefficient of determination: 0.94303973\n"
     ]
    }
   ],
   "source": [
    "# The coefficients\n",
    "print('Beta: \\n', regr.coef_)\n",
    "print('Alpha: \\n',regr.intercept_)\n",
    "#Score R^2\n",
    "print('R^2: \\n',regr.score(x, y))\n",
    "# The mean squared error\n",
    "print('Mean squared error: %.8f' % sklearn.metrics.mean_squared_error(x, regr.predict(x)))\n",
    "# The coefficient of determination: 1 is perfect prediction\n",
    "print('Coefficient of determination: %.8f' % sklearn.metrics.r2_score(x, regr.predict(x)))"
   ]
  },
  {
   "cell_type": "markdown",
   "metadata": {},
   "source": [
    "Regressao Linear Up /Down Capture  file:///P:/ciencia_de_dados/Correlacao_de_fundos/Relatorios/SSRN-id3024136.pdf"
   ]
  },
  {
   "cell_type": "code",
   "execution_count": 15,
   "metadata": {},
   "outputs": [
    {
     "name": "stderr",
     "output_type": "stream",
     "text": [
      "C:\\Users\\carol\\AppData\\Local\\Programs\\Python\\Python36\\lib\\site-packages\\ipykernel_launcher.py:4: SettingWithCopyWarning: \n",
      "A value is trying to be set on a copy of a slice from a DataFrame.\n",
      "Try using .loc[row_indexer,col_indexer] = value instead\n",
      "\n",
      "See the caveats in the documentation: https://pandas.pydata.org/pandas-docs/stable/user_guide/indexing.html#returning-a-view-versus-a-copy\n",
      "  after removing the cwd from sys.path.\n",
      "C:\\Users\\carol\\AppData\\Local\\Programs\\Python\\Python36\\lib\\site-packages\\ipykernel_launcher.py:5: SettingWithCopyWarning: \n",
      "A value is trying to be set on a copy of a slice from a DataFrame.\n",
      "Try using .loc[row_indexer,col_indexer] = value instead\n",
      "\n",
      "See the caveats in the documentation: https://pandas.pydata.org/pandas-docs/stable/user_guide/indexing.html#returning-a-view-versus-a-copy\n",
      "  \"\"\"\n"
     ]
    },
    {
     "data": {
      "text/plain": [
       "3.167136503930928e-30"
      ]
     },
     "execution_count": 15,
     "metadata": {},
     "output_type": "execute_result"
    }
   ],
   "source": [
    "#Seleciona os bpontos onde o benchmark eh positivo\n",
    "df_join_up_capture = df_join[df_join['Retorno_x'] > 1]\n",
    "#df_join_up_capture.index.strftime('%Y').unique()\n",
    "df_join_up_capture[\"Retorno_x\"] = df_join_up_capture[\"Retorno_x\"] + 1\n",
    "df_join_up_capture[\"Retorno_y\"] = df_join_up_capture[\"Retorno_y\"] + 1\n",
    "\n",
    "retorno_anualizado_up = (df_join_up_capture[\"Retorno_y\"].product()**(252/float(df_join_up_capture['Retorno_y'].count())) - 1) * 100\n",
    "retorno_anualizado_up_bench = (df_join_up_capture[\"Retorno_x\"].product()**(252/float(df_join_up_capture['Retorno_x'].count())) - 1) * 100\n",
    "\n",
    "upside_capture_radio = ((retorno_anualizado_up-1)/(retorno_anualizado_up_bench-1))\n",
    "upside_capture_radio"
   ]
  },
  {
   "cell_type": "code",
   "execution_count": 9,
   "metadata": {},
   "outputs": [
    {
     "data": {
      "text/plain": [
       "100.0"
      ]
     },
     "execution_count": 9,
     "metadata": {},
     "output_type": "execute_result"
    }
   ],
   "source": [
    "#Seleciona os bpontos onde o benchmark eh positivo\n",
    "df_join_down_capture = df_join[df_join['Retorno_x'] <= 1]\n",
    "\n",
    "\n",
    "df_join_down_capture\n",
    "n_down = float(df_join_down_capture['Retorno_y'].count())\n",
    "\n",
    "retorno_medio_total_fundo = ((df_join_down_capture['Retorno_y']).product()) ** (1/n_down)\n",
    "retorno_medio_total_bench = ((df_join_down_capture['Retorno_x']).product()) ** (1/n_down)\n",
    "\n",
    "upside_capture_radio = (retorno_medio_total_fundo - 1 )/(retorno_medio_total_bench - 1)*100\n",
    "upside_capture_radio"
   ]
  },
  {
   "cell_type": "markdown",
   "metadata": {},
   "source": [
    "Mutual Information para variavel continua\n",
    "https://scikit-learn.org/stable/modules/generated/sklearn.feature_selection.mutual_info_regression.html"
   ]
  },
  {
   "cell_type": "code",
   "execution_count": 17,
   "metadata": {},
   "outputs": [
    {
     "data": {
      "text/plain": [
       "array([1.00034907])"
      ]
     },
     "execution_count": 17,
     "metadata": {},
     "output_type": "execute_result"
    }
   ],
   "source": [
    "#Multual Information(Entropia)\n",
    "sklearn.feature_selection.mutual_info_regression(x,df_join['Retorno_y']-1)"
   ]
  },
  {
   "cell_type": "markdown",
   "metadata": {},
   "source": [
    "Correlacao de Pearson"
   ]
  },
  {
   "cell_type": "code",
   "execution_count": 18,
   "metadata": {},
   "outputs": [
    {
     "data": {
      "image/png": "[encoded data removed]",
      "text/plain": [
       "<Figure size 432x288 with 2 Axes>"
      ]
     },
     "metadata": {
      "needs_background": "light"
     },
     "output_type": "display_data"
    }
   ],
   "source": [
    "corr = df_join.corr()\n",
    "ax = sns.heatmap(\n",
    "    corr,\n",
    "    annot=True, \n",
    "    vmin=-1, vmax=1, center=0,\n",
    "    cmap=sns.diverging_palette(20, 220, n=200),\n",
    "    square=True\n",
    ")\n",
    "ax.set_xticklabels(\n",
    "    ax.get_xticklabels(),\n",
    "    rotation=45,\n",
    "    horizontalalignment='right'\n",
    ");"
   ]
  },
  {
   "cell_type": "code",
   "execution_count": null,
   "metadata": {},
   "outputs": [],
   "source": []
  }
 ],
 "metadata": {
  "interpreter": {
   "hash": "ce7f67b220d7e42d38f88b93ad1bddba890409d7750de3cd6d28d65599a64a96"
  },
  "kernelspec": {
   "display_name": "Python 3",
   "language": "python",
   "name": "python3"
  },
  "language_info": {
   "codemirror_mode": {
    "name": "ipython",
    "version": 3
   },
   "file_extension": ".py",
   "mimetype": "text/x-python",
   "name": "python",
   "nbconvert_exporter": "python",
   "pygments_lexer": "ipython3",
   "version": "3.6.8"
  }
 },
 "nbformat": 4,
 "nbformat_minor": 2
}

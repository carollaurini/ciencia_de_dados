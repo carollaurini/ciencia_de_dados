{
 "cells": [
  {
   "cell_type": "code",
   "execution_count": null,
   "id": "23972c98",
   "metadata": {},
   "outputs": [],
   "source": [
    "import pandas as pd\n",
    "import sklearn \n",
    "from sklearn.linear_model import LinearRegression\n",
    "import matplotlib.pyplot as plt\n",
    "import numpy as np\n",
    "from sklearn import feature_selection\n",
    "import seaborn as sns\n",
    "import scipy.stats\n",
    "from matplotlib import pyplot as plt\n",
    "import math\n",
    "import openpyxl\n",
    "from  matplotlib.colors import LinearSegmentedColormap\n",
    "import seaborn as sns\n",
    "import xlsxwriter\n",
    "from sklearn import feature_selection"
   ]
  },
  {
   "cell_type": "code",
   "execution_count": null,
   "id": "bf8aeddf",
   "metadata": {},
   "outputs": [],
   "source": []
  }
 ],
 "metadata": {
  "kernelspec": {
   "display_name": "Python 3",
   "language": "python",
   "name": "python3"
  },
  "language_info": {
   "codemirror_mode": {
    "name": "ipython",
    "version": 3
   },
   "file_extension": ".py",
   "mimetype": "text/x-python",
   "name": "python",
   "nbconvert_exporter": "python",
   "pygments_lexer": "ipython3",
   "version": "3.8.8"
  }
 },
 "nbformat": 4,
 "nbformat_minor": 5
}

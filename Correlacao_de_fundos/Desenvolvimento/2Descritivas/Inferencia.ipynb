{
 "cells": [
  {
   "cell_type": "code",
   "execution_count": 78,
   "id": "23972c98",
   "metadata": {},
   "outputs": [],
   "source": [
    "import pandas as pd\n",
    "import sklearn \n",
    "from sklearn.linear_model import LinearRegression\n",
    "import matplotlib.pyplot as plt\n",
    "import numpy as np\n",
    "from sklearn import feature_selection\n",
    "import seaborn as sns\n",
    "import scipy.stats\n",
    "from matplotlib import pyplot as plt\n",
    "import math\n",
    "import openpyxl\n",
    "from  matplotlib.colors import LinearSegmentedColormap\n",
    "import seaborn as sns\n",
    "import xlsxwriter\n",
    "from sklearn import feature_selection\n",
    "from scipy.stats import t"
   ]
  },
  {
   "cell_type": "code",
   "execution_count": 11,
   "id": "bf8aeddf",
   "metadata": {},
   "outputs": [],
   "source": [
    "#Fundo a ser analisado\n",
    "nome_da_base = 'bookx'#'book_pagaya_riverview'\n",
    "col_fundos_input = ['JPEIGLSP Index','BRL Curncy','CAD Curncy','AUD Curncy']#['Pagaya Opportunity Fund','Riverview ALF']\n",
    "nome_benchmark = 'DXY Index'#\"IBOXHY Index\"\n",
    "diaria=0\n",
    "tempo = 12 #252\n",
    "const = 0.03\n",
    "df=pd.read_csv('P:\\\\ciencia_de_dados\\\\Correlacao_de_fundos\\\\Desenvolvimento\\\\1DataPrep\\\\base_'+ nome_da_base + '.csv',sep =';',index_col=0,decimal=',')\n",
    "\n",
    "if diaria==1:\n",
    "    df_diaria = pd.read_csv('P:\\\\ciencia_de_dados\\\\Correlacao_de_fundos\\\\Desenvolvimento\\\\1DataPrep\\\\base_'+ nome_benchmark + '.csv',sep =';',index_col=0,decimal=',')\n",
    "    df = pd.concat([df_diaria, df])"
   ]
  },
  {
   "cell_type": "code",
   "execution_count": 12,
   "id": "e09a12e2",
   "metadata": {},
   "outputs": [
    {
     "data": {
      "text/html": [
       "<div>\n",
       "<style scoped>\n",
       "    .dataframe tbody tr th:only-of-type {\n",
       "        vertical-align: middle;\n",
       "    }\n",
       "\n",
       "    .dataframe tbody tr th {\n",
       "        vertical-align: top;\n",
       "    }\n",
       "\n",
       "    .dataframe thead th {\n",
       "        text-align: right;\n",
       "    }\n",
       "</style>\n",
       "<table border=\"1\" class=\"dataframe\">\n",
       "  <thead>\n",
       "    <tr style=\"text-align: right;\">\n",
       "      <th></th>\n",
       "      <th>index</th>\n",
       "      <th>Product</th>\n",
       "      <th>MesAno</th>\n",
       "      <th>data</th>\n",
       "      <th>FinancialPrice</th>\n",
       "      <th>Mes_nomial</th>\n",
       "      <th>Mes</th>\n",
       "      <th>Ano</th>\n",
       "      <th>Retorno_1</th>\n",
       "      <th>Retorno</th>\n",
       "    </tr>\n",
       "  </thead>\n",
       "  <tbody>\n",
       "    <tr>\n",
       "      <th>677</th>\n",
       "      <td>677</td>\n",
       "      <td>JPEIGLSP Index</td>\n",
       "      <td>10-2021</td>\n",
       "      <td>2021-10-20</td>\n",
       "      <td>333.0000</td>\n",
       "      <td>Oct</td>\n",
       "      <td>10</td>\n",
       "      <td>2021</td>\n",
       "      <td>NaN</td>\n",
       "      <td>NaN</td>\n",
       "    </tr>\n",
       "    <tr>\n",
       "      <th>665</th>\n",
       "      <td>665</td>\n",
       "      <td>JPEIGLSP Index</td>\n",
       "      <td>09-2021</td>\n",
       "      <td>2021-09-30</td>\n",
       "      <td>324.3700</td>\n",
       "      <td>Sep</td>\n",
       "      <td>9</td>\n",
       "      <td>2021</td>\n",
       "      <td>1.026606</td>\n",
       "      <td>0.026605</td>\n",
       "    </tr>\n",
       "    <tr>\n",
       "      <th>653</th>\n",
       "      <td>653</td>\n",
       "      <td>JPEIGLSP Index</td>\n",
       "      <td>08-2021</td>\n",
       "      <td>2021-08-31</td>\n",
       "      <td>327.4400</td>\n",
       "      <td>Aug</td>\n",
       "      <td>8</td>\n",
       "      <td>2021</td>\n",
       "      <td>0.990624</td>\n",
       "      <td>-0.009376</td>\n",
       "    </tr>\n",
       "    <tr>\n",
       "      <th>641</th>\n",
       "      <td>641</td>\n",
       "      <td>JPEIGLSP Index</td>\n",
       "      <td>07-2021</td>\n",
       "      <td>2021-07-30</td>\n",
       "      <td>331.8300</td>\n",
       "      <td>Jul</td>\n",
       "      <td>7</td>\n",
       "      <td>2021</td>\n",
       "      <td>0.986770</td>\n",
       "      <td>-0.013230</td>\n",
       "    </tr>\n",
       "    <tr>\n",
       "      <th>629</th>\n",
       "      <td>629</td>\n",
       "      <td>JPEIGLSP Index</td>\n",
       "      <td>06-2021</td>\n",
       "      <td>2021-06-30</td>\n",
       "      <td>312.5000</td>\n",
       "      <td>Jun</td>\n",
       "      <td>6</td>\n",
       "      <td>2021</td>\n",
       "      <td>1.061856</td>\n",
       "      <td>0.061856</td>\n",
       "    </tr>\n",
       "    <tr>\n",
       "      <th>...</th>\n",
       "      <td>...</td>\n",
       "      <td>...</td>\n",
       "      <td>...</td>\n",
       "      <td>...</td>\n",
       "      <td>...</td>\n",
       "      <td>...</td>\n",
       "      <td>...</td>\n",
       "      <td>...</td>\n",
       "      <td>...</td>\n",
       "      <td>...</td>\n",
       "    </tr>\n",
       "    <tr>\n",
       "      <th>70</th>\n",
       "      <td>70</td>\n",
       "      <td>AUD Curncy</td>\n",
       "      <td>07-2010</td>\n",
       "      <td>2010-07-30</td>\n",
       "      <td>0.9026</td>\n",
       "      <td>Jul</td>\n",
       "      <td>7</td>\n",
       "      <td>2010</td>\n",
       "      <td>1.017394</td>\n",
       "      <td>0.017394</td>\n",
       "    </tr>\n",
       "    <tr>\n",
       "      <th>58</th>\n",
       "      <td>58</td>\n",
       "      <td>AUD Curncy</td>\n",
       "      <td>06-2010</td>\n",
       "      <td>2010-06-30</td>\n",
       "      <td>0.8765</td>\n",
       "      <td>Jun</td>\n",
       "      <td>6</td>\n",
       "      <td>2010</td>\n",
       "      <td>1.029778</td>\n",
       "      <td>0.029778</td>\n",
       "    </tr>\n",
       "    <tr>\n",
       "      <th>46</th>\n",
       "      <td>46</td>\n",
       "      <td>AUD Curncy</td>\n",
       "      <td>05-2010</td>\n",
       "      <td>2010-05-31</td>\n",
       "      <td>0.9261</td>\n",
       "      <td>May</td>\n",
       "      <td>5</td>\n",
       "      <td>2010</td>\n",
       "      <td>0.946442</td>\n",
       "      <td>-0.053558</td>\n",
       "    </tr>\n",
       "    <tr>\n",
       "      <th>34</th>\n",
       "      <td>34</td>\n",
       "      <td>AUD Curncy</td>\n",
       "      <td>04-2010</td>\n",
       "      <td>2010-04-30</td>\n",
       "      <td>0.9351</td>\n",
       "      <td>Apr</td>\n",
       "      <td>4</td>\n",
       "      <td>2010</td>\n",
       "      <td>0.990375</td>\n",
       "      <td>-0.009625</td>\n",
       "    </tr>\n",
       "    <tr>\n",
       "      <th>22</th>\n",
       "      <td>22</td>\n",
       "      <td>AUD Curncy</td>\n",
       "      <td>03-2010</td>\n",
       "      <td>2010-03-31</td>\n",
       "      <td>0.9197</td>\n",
       "      <td>Mar</td>\n",
       "      <td>3</td>\n",
       "      <td>2010</td>\n",
       "      <td>1.016745</td>\n",
       "      <td>0.016745</td>\n",
       "    </tr>\n",
       "  </tbody>\n",
       "</table>\n",
       "<p>700 rows × 10 columns</p>\n",
       "</div>"
      ],
      "text/plain": [
       "     index         Product   MesAno        data  FinancialPrice Mes_nomial  \\\n",
       "677    677  JPEIGLSP Index  10-2021  2021-10-20        333.0000        Oct   \n",
       "665    665  JPEIGLSP Index  09-2021  2021-09-30        324.3700        Sep   \n",
       "653    653  JPEIGLSP Index  08-2021  2021-08-31        327.4400        Aug   \n",
       "641    641  JPEIGLSP Index  07-2021  2021-07-30        331.8300        Jul   \n",
       "629    629  JPEIGLSP Index  06-2021  2021-06-30        312.5000        Jun   \n",
       "..     ...             ...      ...         ...             ...        ...   \n",
       "70      70      AUD Curncy  07-2010  2010-07-30          0.9026        Jul   \n",
       "58      58      AUD Curncy  06-2010  2010-06-30          0.8765        Jun   \n",
       "46      46      AUD Curncy  05-2010  2010-05-31          0.9261        May   \n",
       "34      34      AUD Curncy  04-2010  2010-04-30          0.9351        Apr   \n",
       "22      22      AUD Curncy  03-2010  2010-03-31          0.9197        Mar   \n",
       "\n",
       "     Mes   Ano  Retorno_1   Retorno  \n",
       "677   10  2021        NaN       NaN  \n",
       "665    9  2021   1.026606  0.026605  \n",
       "653    8  2021   0.990624 -0.009376  \n",
       "641    7  2021   0.986770 -0.013230  \n",
       "629    6  2021   1.061856  0.061856  \n",
       "..   ...   ...        ...       ...  \n",
       "70     7  2010   1.017394  0.017394  \n",
       "58     6  2010   1.029778  0.029778  \n",
       "46     5  2010   0.946442 -0.053558  \n",
       "34     4  2010   0.990375 -0.009625  \n",
       "22     3  2010   1.016745  0.016745  \n",
       "\n",
       "[700 rows x 10 columns]"
      ]
     },
     "execution_count": 12,
     "metadata": {},
     "output_type": "execute_result"
    }
   ],
   "source": [
    "df"
   ]
  },
  {
   "cell_type": "code",
   "execution_count": 13,
   "id": "43611438",
   "metadata": {},
   "outputs": [],
   "source": [
    "x1 = 'CAD Curncy'\n",
    "x2 = 'JPEIGLSP Index'"
   ]
  },
  {
   "cell_type": "code",
   "execution_count": 14,
   "id": "31c02992",
   "metadata": {},
   "outputs": [],
   "source": [
    "df_sub = df.pivot(index=[\"data\",\"Ano\",\"Mes\"], columns=\"Product\", values=\"Retorno_1\")\n",
    "df_sub = df_sub.reset_index()\n",
    "df_sub = df_sub.dropna()"
   ]
  },
  {
   "cell_type": "code",
   "execution_count": 15,
   "id": "6a280cde",
   "metadata": {},
   "outputs": [
    {
     "data": {
      "image/png": "[encoded data removed]",
      "text/plain": [
       "<Figure size 432x288 with 2 Axes>"
      ]
     },
     "metadata": {
      "needs_background": "light"
     },
     "output_type": "display_data"
    }
   ],
   "source": [
    "col_fundos1 =col_fundos_input\n",
    "col_fundos1.append(nome_benchmark)\n",
    "\n",
    "corr = df_sub[col_fundos_input].corr()\n",
    "\n",
    "col_fundos1 =col_fundos_input\n",
    "ax = sns.heatmap(\n",
    "    corr,\n",
    "    annot=True, \n",
    "    vmin=-1, vmax=1, center=0,\n",
    "    cmap=sns.diverging_palette(20, 220, n=200),\n",
    "    square=True\n",
    ")\n",
    "ax.set_xticklabels(\n",
    "    ax.get_xticklabels(),\n",
    "    rotation=45,\n",
    "    horizontalalignment='right'\n",
    ");\n",
    "plt.savefig('CorrelationMatrix.png',dpi=200)"
   ]
  },
  {
   "cell_type": "code",
   "execution_count": 64,
   "id": "48c52dfd",
   "metadata": {},
   "outputs": [],
   "source": [
    "diff=[]\n",
    "coef_b=[]\n",
    "coef_s=[]\n",
    "coef_out_of_sample=[]\n",
    "\n",
    "janela_target=12\n",
    "\n",
    "def func(df,k):\n",
    "    n1=10\n",
    "    if k>=30:\n",
    "        n1=30\n",
    "    df_rand = df[0:24+k].sample(n = n1)\n",
    "    return scipy.stats.pearsonr(df_rand[x1], df_rand[x2])[0]\n",
    "   \n",
    "for k in range(0,len(df_sub[x1])-(25+janela_target)):\n",
    "    \n",
    "    coef_s.append(scipy.stats.pearsonr(df_sub[x1][k:k+24], df_sub[x2][k:k+24])[0])\n",
    "    coef_out_of_sample.append(scipy.stats.pearsonr(df_sub[x1][k+25:k+25+janela_target], df_sub[x2][k+25:k+25+janela_target])[0])\n",
    "    coef_b.append(np.mean([func(df_sub,k) for i in range(5000)]))\n",
    "\n",
    "    \n",
    "df_teste = pd.DataFrame(\n",
    "    {'Correlacao_futura_out_of_sample': coef_out_of_sample,\n",
    "     'Correlacao_BoostStrapping': coef_b,\n",
    "     'Correlacao_simples_24_meses': coef_s\n",
    "    })\n",
    "df_teste['Correlacao_BoostStrapping_erro'] = df_teste.Correlacao_futura_out_of_sample - df_teste.Correlacao_BoostStrapping\n",
    "df_teste['Correlacao_Simples_24_meses_erro'] = df_teste.Correlacao_futura_out_of_sample - df_teste.Correlacao_simples_24_meses"
   ]
  },
  {
   "cell_type": "code",
   "execution_count": 83,
   "id": "f5c441b4",
   "metadata": {},
   "outputs": [],
   "source": [
    "df_teste.to_excel('teste_correlacao.xlsx')"
   ]
  },
  {
   "cell_type": "code",
   "execution_count": 66,
   "id": "eb9908ce",
   "metadata": {},
   "outputs": [
    {
     "data": {
      "text/plain": [
       "0.06051539054326179"
      ]
     },
     "execution_count": 66,
     "metadata": {},
     "output_type": "execute_result"
    }
   ],
   "source": [
    "sum((df_teste.Correlacao_BoostStrapping_erro)**2) / len(df_teste.Correlacao_BoostStrapping_erro)\n"
   ]
  },
  {
   "cell_type": "code",
   "execution_count": 67,
   "id": "5dcb15a8",
   "metadata": {},
   "outputs": [
    {
     "data": {
      "text/plain": [
       "0.11812123306115857"
      ]
     },
     "execution_count": 67,
     "metadata": {},
     "output_type": "execute_result"
    }
   ],
   "source": [
    "sum((df_teste.Correlacao_Simples_24_meses_erro)**2) / len(df_teste.Correlacao_BoostStrapping_erro)"
   ]
  },
  {
   "cell_type": "code",
   "execution_count": 73,
   "id": "0ebf26c5",
   "metadata": {},
   "outputs": [
    {
     "name": "stderr",
     "output_type": "stream",
     "text": [
      "c:\\users\\carol\\appdata\\local\\programs\\python\\python36\\lib\\site-packages\\seaborn\\_decorators.py:43: FutureWarning: Pass the following variables as keyword args: x, y. From version 0.12, the only valid positional argument will be `data`, and passing other arguments without an explicit keyword will result in an error or misinterpretation.\n",
      "  FutureWarning\n"
     ]
    },
    {
     "data": {
      "text/plain": [
       "0.4944483143404834"
      ]
     },
     "execution_count": 73,
     "metadata": {},
     "output_type": "execute_result"
    },
    {
     "data": {
      "image/png": "[encoded data removed]",
      "text/plain": [
       "<Figure size 432x288 with 1 Axes>"
      ]
     },
     "metadata": {
      "needs_background": "light"
     },
     "output_type": "display_data"
    }
   ],
   "source": [
    "g =sns.scatterplot(range(0,len(df_sub.Ano)-(25+janela_target)),df_teste.Correlacao_futura_out_of_sample)\n",
    "plt.xticks(rotation=45)\n",
    "g.set(ylim=(-1, 1))\n",
    "np.mean(df_teste.Correlacao_futura_out_of_sample)\n"
   ]
  },
  {
   "cell_type": "code",
   "execution_count": 96,
   "id": "66d3aa71",
   "metadata": {},
   "outputs": [
    {
     "name": "stderr",
     "output_type": "stream",
     "text": [
      "c:\\users\\carol\\appdata\\local\\programs\\python\\python36\\lib\\site-packages\\seaborn\\_decorators.py:43: FutureWarning: Pass the following variables as keyword args: x, y. From version 0.12, the only valid positional argument will be `data`, and passing other arguments without an explicit keyword will result in an error or misinterpretation.\n",
      "  FutureWarning\n"
     ]
    },
    {
     "data": {
      "text/plain": [
       "0.6105429392996641"
      ]
     },
     "execution_count": 96,
     "metadata": {},
     "output_type": "execute_result"
    },
    {
     "data": {
      "image/png": "[encoded data removed]",
      "text/plain": [
       "<Figure size 432x288 with 1 Axes>"
      ]
     },
     "metadata": {
      "needs_background": "light"
     },
     "output_type": "display_data"
    }
   ],
   "source": [
    "g =sns.scatterplot(range(0,len(df_sub.Ano)-(25+janela_target)),df_teste.Correlacao_BoostStrapping)\n",
    "plt.xticks(rotation=45)\n",
    "g.set(ylim=(-1, 1))\n",
    "np.mean(df_teste.Correlacao_BoostStrapping)"
   ]
  },
  {
   "cell_type": "code",
   "execution_count": 98,
   "id": "2842c9eb",
   "metadata": {},
   "outputs": [
    {
     "name": "stderr",
     "output_type": "stream",
     "text": [
      "c:\\users\\carol\\appdata\\local\\programs\\python\\python36\\lib\\site-packages\\seaborn\\_decorators.py:43: FutureWarning: Pass the following variables as keyword args: x, y. From version 0.12, the only valid positional argument will be `data`, and passing other arguments without an explicit keyword will result in an error or misinterpretation.\n",
      "  FutureWarning\n"
     ]
    },
    {
     "data": {
      "text/plain": [
       "0.6105429392996641"
      ]
     },
     "execution_count": 98,
     "metadata": {},
     "output_type": "execute_result"
    },
    {
     "data": {
      "image/png": "[encoded data removed]",
      "text/plain": [
       "<Figure size 432x288 with 1 Axes>"
      ]
     },
     "metadata": {
      "needs_background": "light"
     },
     "output_type": "display_data"
    }
   ],
   "source": [
    "g =sns.scatterplot(range(0,len(df_sub.Ano)-(25+janela_target)),df_teste.Correlacao_BoostStrapping_erro)\n",
    "plt.xticks(rotation=45)\n",
    "g.set(ylim=(-1, 1))\n",
    "np.mean(df_teste.Correlacao_BoostStrapping)"
   ]
  },
  {
   "cell_type": "code",
   "execution_count": 76,
   "id": "e034fe75",
   "metadata": {},
   "outputs": [
    {
     "name": "stderr",
     "output_type": "stream",
     "text": [
      "c:\\users\\carol\\appdata\\local\\programs\\python\\python36\\lib\\site-packages\\seaborn\\_decorators.py:43: FutureWarning: Pass the following variables as keyword args: x, y. From version 0.12, the only valid positional argument will be `data`, and passing other arguments without an explicit keyword will result in an error or misinterpretation.\n",
      "  FutureWarning\n"
     ]
    },
    {
     "data": {
      "text/plain": [
       "0.5105546100000802"
      ]
     },
     "execution_count": 76,
     "metadata": {},
     "output_type": "execute_result"
    },
    {
     "data": {
      "image/png": "[encoded data removed]",
      "text/plain": [
       "<Figure size 432x288 with 1 Axes>"
      ]
     },
     "metadata": {
      "needs_background": "light"
     },
     "output_type": "display_data"
    }
   ],
   "source": [
    "g =sns.scatterplot(range(0,len(df_sub.Ano)-(25+janela_target)),df_teste.Correlacao_simples_24_meses)\n",
    "plt.xticks(rotation=45)\n",
    "g.set(ylim=(-1, 1))\n",
    "np.mean(df_teste.Correlacao_simples_24_meses)\n"
   ]
  },
  {
   "cell_type": "code",
   "execution_count": 100,
   "id": "eadedbaf",
   "metadata": {},
   "outputs": [
    {
     "name": "stderr",
     "output_type": "stream",
     "text": [
      "c:\\users\\carol\\appdata\\local\\programs\\python\\python36\\lib\\site-packages\\seaborn\\_decorators.py:43: FutureWarning: Pass the following variables as keyword args: x, y. From version 0.12, the only valid positional argument will be `data`, and passing other arguments without an explicit keyword will result in an error or misinterpretation.\n",
      "  FutureWarning\n"
     ]
    },
    {
     "data": {
      "text/plain": [
       "0.6105429392996641"
      ]
     },
     "execution_count": 100,
     "metadata": {},
     "output_type": "execute_result"
    },
    {
     "data": {
      "image/png": "[encoded data removed]",
      "text/plain": [
       "<Figure size 432x288 with 1 Axes>"
      ]
     },
     "metadata": {
      "needs_background": "light"
     },
     "output_type": "display_data"
    }
   ],
   "source": [
    "g =sns.scatterplot(range(0,len(df_sub.Ano)-(25+janela_target)),df_teste.Correlacao_Simples_24_meses_erro)\n",
    "plt.xticks(rotation=45)\n",
    "g.set(ylim=(-1, 1))\n",
    "np.mean(df_teste.Correlacao_BoostStrapping)"
   ]
  },
  {
   "cell_type": "code",
   "execution_count": 93,
   "id": "9c626783",
   "metadata": {},
   "outputs": [
    {
     "name": "stdout",
     "output_type": "stream",
     "text": [
      "0.5358093218563997 0.14251016047970116 (0.47191180874772576, 0.7491740698516024)\n"
     ]
    },
    {
     "data": {
      "image/png": "[encoded data removed]",
      "text/plain": [
       "<Figure size 432x288 with 1 Axes>"
      ]
     },
     "metadata": {
      "needs_background": "light"
     },
     "output_type": "display_data"
    }
   ],
   "source": [
    "\n",
    "x= [func(df_sub,len(df_teste.Correlacao_BoostStrapping)) for i in range(5000)]\n",
    "sns.histplot(x)\n",
    "print(np.mean(x),np.std(x),confidence_interval)\n",
    "\n",
    "confidence_interval = scipy.stats.t.interval(0.95, 4999, np.mean(x), np.std(x))\n",
    "\n",
    "\n",
    "plt.savefig('distribuicao.png')"
   ]
  },
  {
   "cell_type": "code",
   "execution_count": 79,
   "id": "f143588e",
   "metadata": {},
   "outputs": [],
   "source": []
  }
 ],
 "metadata": {
  "kernelspec": {
   "display_name": "Python 3",
   "language": "python",
   "name": "python3"
  },
  "language_info": {
   "codemirror_mode": {
    "name": "ipython",
    "version": 3
   },
   "file_extension": ".py",
   "mimetype": "text/x-python",
   "name": "python",
   "nbconvert_exporter": "python",
   "pygments_lexer": "ipython3",
   "version": "3.6.8"
  }
 },
 "nbformat": 4,
 "nbformat_minor": 5
}

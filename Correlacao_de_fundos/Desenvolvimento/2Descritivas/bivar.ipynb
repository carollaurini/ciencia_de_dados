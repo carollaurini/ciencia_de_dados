{
 "cells": [
  {
   "cell_type": "code",
   "execution_count": 3,
   "source": [
    "import pandas as pd\r\n",
    "import sklearn \r\n",
    "from sklearn.linear_model import LinearRegression\r\n",
    "import matplotlib.pyplot as plt\r\n",
    "import numpy as np\r\n",
    "from sklearn import feature_selection\r\n",
    "import seaborn as sns"
   ],
   "outputs": [],
   "metadata": {}
  },
  {
   "cell_type": "code",
   "execution_count": 4,
   "source": [
    "#Fundo a ser analisado\r\n",
    "nome_do_fundo = 'paiva'\r\n",
    "coldata = \"data\"\r\n",
    "nome_benchmark = \"ibov\""
   ],
   "outputs": [],
   "metadata": {}
  },
  {
   "cell_type": "code",
   "execution_count": 5,
   "source": [
    "df=pd.read_csv('P:\\\\ciencia_de_dados\\\\Correlacao_de_fundos\\\\Desenvolvimento\\\\1DataPrep\\\\base_'+ nome_do_fundo + '.csv',sep =';',decimal=',',index_col=0)"
   ],
   "outputs": [],
   "metadata": {}
  },
  {
   "cell_type": "code",
   "execution_count": 8,
   "source": [
    "df_fundo = df.loc[df.Product == nome_do_fundo,[coldata,'Retorno']]\r\n",
    "df_bench = df.loc[df.Product == nome_benchmark,[coldata,'Retorno']]\r\n",
    "\r\n",
    "df_fundo.index=df_fundo[coldata]\r\n",
    "df_bench.index=df_bench[coldata]"
   ],
   "outputs": [],
   "metadata": {}
  },
  {
   "cell_type": "code",
   "execution_count": 9,
   "source": [
    "df_join =pd.merge(df_bench, df_fundo,how='inner',left_index=True, right_index=True).dropna()[['Retorno_x','Retorno_y']]"
   ],
   "outputs": [],
   "metadata": {}
  },
  {
   "cell_type": "code",
   "execution_count": 10,
   "source": [
    "df_join"
   ],
   "outputs": [
    {
     "output_type": "execute_result",
     "data": {
      "text/html": [
       "<div>\n",
       "<style scoped>\n",
       "    .dataframe tbody tr th:only-of-type {\n",
       "        vertical-align: middle;\n",
       "    }\n",
       "\n",
       "    .dataframe tbody tr th {\n",
       "        vertical-align: top;\n",
       "    }\n",
       "\n",
       "    .dataframe thead th {\n",
       "        text-align: right;\n",
       "    }\n",
       "</style>\n",
       "<table border=\"1\" class=\"dataframe\">\n",
       "  <thead>\n",
       "    <tr style=\"text-align: right;\">\n",
       "      <th></th>\n",
       "      <th>Retorno_x</th>\n",
       "      <th>Retorno_y</th>\n",
       "    </tr>\n",
       "    <tr>\n",
       "      <th>data</th>\n",
       "      <th></th>\n",
       "      <th></th>\n",
       "    </tr>\n",
       "  </thead>\n",
       "  <tbody>\n",
       "    <tr>\n",
       "      <th>2021-08-11</th>\n",
       "      <td>-1.110389</td>\n",
       "      <td>-0.295456</td>\n",
       "    </tr>\n",
       "    <tr>\n",
       "      <th>2021-08-10</th>\n",
       "      <td>-0.119637</td>\n",
       "      <td>-0.407899</td>\n",
       "    </tr>\n",
       "    <tr>\n",
       "      <th>2021-08-09</th>\n",
       "      <td>-0.664042</td>\n",
       "      <td>-0.564416</td>\n",
       "    </tr>\n",
       "    <tr>\n",
       "      <th>2021-08-06</th>\n",
       "      <td>0.170181</td>\n",
       "      <td>0.276809</td>\n",
       "    </tr>\n",
       "    <tr>\n",
       "      <th>2021-08-05</th>\n",
       "      <td>0.968077</td>\n",
       "      <td>0.437754</td>\n",
       "    </tr>\n",
       "    <tr>\n",
       "      <th>...</th>\n",
       "      <td>...</td>\n",
       "      <td>...</td>\n",
       "    </tr>\n",
       "    <tr>\n",
       "      <th>2015-01-06</th>\n",
       "      <td>3.045776</td>\n",
       "      <td>0.804913</td>\n",
       "    </tr>\n",
       "    <tr>\n",
       "      <th>2015-01-05</th>\n",
       "      <td>1.018798</td>\n",
       "      <td>0.329946</td>\n",
       "    </tr>\n",
       "    <tr>\n",
       "      <th>2015-01-02</th>\n",
       "      <td>-2.051855</td>\n",
       "      <td>-1.035315</td>\n",
       "    </tr>\n",
       "    <tr>\n",
       "      <th>2015-01-01</th>\n",
       "      <td>-2.989957</td>\n",
       "      <td>-1.221100</td>\n",
       "    </tr>\n",
       "    <tr>\n",
       "      <th>2014-12-31</th>\n",
       "      <td>0.000000</td>\n",
       "      <td>0.000000</td>\n",
       "    </tr>\n",
       "  </tbody>\n",
       "</table>\n",
       "<p>1726 rows × 2 columns</p>\n",
       "</div>"
      ],
      "text/plain": [
       "            Retorno_x  Retorno_y\n",
       "data                            \n",
       "2021-08-11  -1.110389  -0.295456\n",
       "2021-08-10  -0.119637  -0.407899\n",
       "2021-08-09  -0.664042  -0.564416\n",
       "2021-08-06   0.170181   0.276809\n",
       "2021-08-05   0.968077   0.437754\n",
       "...               ...        ...\n",
       "2015-01-06   3.045776   0.804913\n",
       "2015-01-05   1.018798   0.329946\n",
       "2015-01-02  -2.051855  -1.035315\n",
       "2015-01-01  -2.989957  -1.221100\n",
       "2014-12-31   0.000000   0.000000\n",
       "\n",
       "[1726 rows x 2 columns]"
      ]
     },
     "metadata": {},
     "execution_count": 10
    }
   ],
   "metadata": {}
  },
  {
   "cell_type": "markdown",
   "source": [
    "Regressao Linear "
   ],
   "metadata": {}
  },
  {
   "cell_type": "code",
   "execution_count": 11,
   "source": [
    "#Regressao Linear total\r\n",
    "x = (df_join['Retorno_x']-1).values.reshape((-1, 1))\r\n",
    "y= (df_join['Retorno_y']-1).values.reshape((-1, 1))\r\n",
    "regr = sklearn.linear_model.LinearRegression()\r\n",
    "regr.fit(x, y)"
   ],
   "outputs": [
    {
     "output_type": "execute_result",
     "data": {
      "text/plain": [
       "LinearRegression()"
      ]
     },
     "metadata": {},
     "execution_count": 11
    }
   ],
   "metadata": {}
  },
  {
   "cell_type": "code",
   "execution_count": 12,
   "source": [
    "# plot it as in the example at http://scikit-learn.org/\r\n",
    "plt.scatter(x, y,  color='black')\r\n",
    "plt.plot(x, regr.predict(x), color='blue', linewidth=3)\r\n",
    "plt.xticks(())\r\n",
    "plt.yticks(())\r\n",
    "plt.show()"
   ],
   "outputs": [
    {
     "output_type": "display_data",
     "data": {
      "image/png": "[encoded data removed]",
      "text/plain": [
       "<Figure size 432x288 with 1 Axes>"
      ]
     },
     "metadata": {}
    }
   ],
   "metadata": {}
  },
  {
   "cell_type": "code",
   "execution_count": 13,
   "source": [
    "# The coefficients\r\n",
    "print('Beta: \\n', regr.coef_)\r\n",
    "print('Alpha: \\n',regr.intercept_)\r\n",
    "#Score R^2\r\n",
    "print('R^2: \\n',regr.score(x, y))\r\n",
    "# The mean squared error\r\n",
    "print('Mean squared error: %.8f' % sklearn.metrics.mean_squared_error(x, regr.predict(x)))\r\n",
    "# The coefficient of determination: 1 is perfect prediction\r\n",
    "print('Coefficient of determination: %.8f' % sklearn.metrics.r2_score(x, regr.predict(x)))"
   ],
   "outputs": [
    {
     "output_type": "stream",
     "name": "stdout",
     "text": [
      "Beta: \n",
      " [[0.76123683]]\n",
      "Alpha: \n",
      " [-0.21615178]\n",
      "R^2: \n",
      " 0.8354722140280378\n",
      "Mean squared error: 0.15105310\n",
      "Coefficient of determination: 0.94297244\n"
     ]
    }
   ],
   "metadata": {}
  },
  {
   "cell_type": "markdown",
   "source": [
    "Regressao Linear Up /Down Capture  file:///P:/ciencia_de_dados/Correlacao_de_fundos/Relatorios/SSRN-id3024136.pdf"
   ],
   "metadata": {}
  },
  {
   "cell_type": "code",
   "execution_count": 15,
   "source": [
    "#Seleciona os bpontos onde o benchmark eh positivo\r\n",
    "df_join_up_capture = df_join[df_join['Retorno_x'] > 1]\r\n",
    "#df_join_up_capture.index.strftime('%Y').unique()\r\n",
    "df_join_up_capture[\"Retorno_x\"] = df_join_up_capture[\"Retorno_x\"] + 1\r\n",
    "df_join_up_capture[\"Retorno_y\"] = df_join_up_capture[\"Retorno_y\"] + 1\r\n",
    "\r\n",
    "retorno_anualizado_up = (df_join_up_capture[\"Retorno_y\"].product()**(252/float(df_join_up_capture['Retorno_y'].count())) - 1) * 100\r\n",
    "retorno_anualizado_up_bench = (df_join_up_capture[\"Retorno_x\"].product()**(252/float(df_join_up_capture['Retorno_x'].count())) - 1) * 100\r\n",
    "\r\n",
    "upside_capture_radio = ((retorno_anualizado_up-1)/(retorno_anualizado_up_bench-1))\r\n",
    "upside_capture_radio"
   ],
   "outputs": [
    {
     "output_type": "stream",
     "name": "stderr",
     "text": [
      "C:\\Users\\carol\\AppData\\Local\\Programs\\Python\\Python36\\lib\\site-packages\\ipykernel_launcher.py:4: SettingWithCopyWarning: \n",
      "A value is trying to be set on a copy of a slice from a DataFrame.\n",
      "Try using .loc[row_indexer,col_indexer] = value instead\n",
      "\n",
      "See the caveats in the documentation: https://pandas.pydata.org/pandas-docs/stable/user_guide/indexing.html#returning-a-view-versus-a-copy\n",
      "  after removing the cwd from sys.path.\n",
      "C:\\Users\\carol\\AppData\\Local\\Programs\\Python\\Python36\\lib\\site-packages\\ipykernel_launcher.py:5: SettingWithCopyWarning: \n",
      "A value is trying to be set on a copy of a slice from a DataFrame.\n",
      "Try using .loc[row_indexer,col_indexer] = value instead\n",
      "\n",
      "See the caveats in the documentation: https://pandas.pydata.org/pandas-docs/stable/user_guide/indexing.html#returning-a-view-versus-a-copy\n",
      "  \"\"\"\n"
     ]
    },
    {
     "output_type": "execute_result",
     "data": {
      "text/plain": [
       "3.167136503930928e-30"
      ]
     },
     "metadata": {},
     "execution_count": 15
    }
   ],
   "metadata": {}
  },
  {
   "cell_type": "code",
   "execution_count": 16,
   "source": [
    "#Seleciona os bpontos onde o benchmark eh positivo\r\n",
    "df_join_down_capture = df_join[df_join['Retorno_x'] <= 1]\r\n",
    "\r\n",
    "\r\n",
    "df_join_down_capture\r\n",
    "n_down = float(df_join_down_capture['Retorno_y'].count())\r\n",
    "\r\n",
    "retorno_medio_total_fundo = ((df_join_down_capture['Retorno_y']).product()) ** (1/n_down)\r\n",
    "retorno_medio_total_bench = ((df_join_down_capture['Retorno_x']).product()) ** (1/n_down)\r\n",
    "\r\n",
    "upside_capture_radio = (retorno_medio_total_fundo - 1 )/(retorno_medio_total_bench - 1)*100\r\n",
    "upside_capture_radio"
   ],
   "outputs": [
    {
     "output_type": "execute_result",
     "data": {
      "text/plain": [
       "100.0"
      ]
     },
     "metadata": {},
     "execution_count": 16
    }
   ],
   "metadata": {}
  },
  {
   "cell_type": "markdown",
   "source": [
    "Mutual Information para variavel continua\r\n",
    "https://scikit-learn.org/stable/modules/generated/sklearn.feature_selection.mutual_info_regression.html"
   ],
   "metadata": {}
  },
  {
   "cell_type": "code",
   "execution_count": 17,
   "source": [
    "#Multual Information(Entropia)\r\n",
    "sklearn.feature_selection.mutual_info_regression(x,df_join['Retorno_y']-1)"
   ],
   "outputs": [
    {
     "output_type": "execute_result",
     "data": {
      "text/plain": [
       "array([1.00034907])"
      ]
     },
     "metadata": {},
     "execution_count": 17
    }
   ],
   "metadata": {}
  },
  {
   "cell_type": "markdown",
   "source": [
    "Correlacao de Pearson"
   ],
   "metadata": {}
  },
  {
   "cell_type": "code",
   "execution_count": 18,
   "source": [
    "corr = df_join.corr()\r\n",
    "ax = sns.heatmap(\r\n",
    "    corr,\r\n",
    "    annot=True, \r\n",
    "    vmin=-1, vmax=1, center=0,\r\n",
    "    cmap=sns.diverging_palette(20, 220, n=200),\r\n",
    "    square=True\r\n",
    ")\r\n",
    "ax.set_xticklabels(\r\n",
    "    ax.get_xticklabels(),\r\n",
    "    rotation=45,\r\n",
    "    horizontalalignment='right'\r\n",
    ");"
   ],
   "outputs": [
    {
     "output_type": "display_data",
     "data": {
      "image/png": "[encoded data removed]",
      "text/plain": [
       "<Figure size 432x288 with 2 Axes>"
      ]
     },
     "metadata": {
      "needs_background": "light"
     }
    }
   ],
   "metadata": {}
  },
  {
   "cell_type": "code",
   "execution_count": null,
   "source": [],
   "outputs": [],
   "metadata": {}
  }
 ],
 "metadata": {
  "orig_nbformat": 4,
  "language_info": {
   "name": "python",
   "version": "3.6.8",
   "mimetype": "text/x-python",
   "codemirror_mode": {
    "name": "ipython",
    "version": 3
   },
   "pygments_lexer": "ipython3",
   "nbconvert_exporter": "python",
   "file_extension": ".py"
  },
  "kernelspec": {
   "name": "python3",
   "display_name": "Python 3.6.8 64-bit"
  },
  "interpreter": {
   "hash": "a00aeec2289cc99a0231b58f96b56a331b4325a429a696208fafbc585e08b4fc"
  }
 },
 "nbformat": 4,
 "nbformat_minor": 2
}